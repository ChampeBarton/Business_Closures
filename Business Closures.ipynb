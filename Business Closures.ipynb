{
 "cells": [
  {
   "cell_type": "code",
   "execution_count": 1,
   "metadata": {},
   "outputs": [],
   "source": [
    "# import libraries\n",
    "from urllib.request import urlopen\n",
    "from bs4 import BeautifulSoup"
   ]
  },
  {
   "cell_type": "code",
   "execution_count": 17,
   "metadata": {},
   "outputs": [],
   "source": [
    "base_url = \"https://www.dnainfo.com/new-york/columns/openings-closings/page/\""
   ]
  },
  {
   "cell_type": "code",
   "execution_count": 19,
   "metadata": {},
   "outputs": [],
   "source": [
    "link_list = []"
   ]
  },
  {
   "cell_type": "code",
   "execution_count": 20,
   "metadata": {},
   "outputs": [
    {
     "name": "stdout",
     "output_type": "stream",
     "text": [
      "https://www.dnainfo.com/new-york/20171010/crown-heights/bad-seed-cider-tap-room-wilklow-orchards-franklin-avenue-crown-heights\n",
      "https://www.dnainfo.com/new-york/20170808/crown-heights/brooklyn-wing-house-chicken-wings-waffles-opening\n",
      "https://www.dnainfo.com/new-york/20170714/crown-heights/bakerie-kosher-bread-pastries\n",
      "https://www.dnainfo.com/new-york/20170208/crown-heights/ignitia-co-working-space-studebaker-building-dean-street\n",
      "https://www.dnainfo.com/new-york/20170106/crown-heights/yoga-studio-franklin-avenue-free-classes\n",
      "https://www.dnainfo.com/new-york/20170109/crown-heights/cafe-with-crown-heights-roasted-coffee-opening-on-utica-avenue\n",
      "https://www.dnainfo.com/new-york/20161223/crown-heights/modern-israeli-restaurant-alenbi-bring-kosher-dining-nostrand-ave\n",
      "https://www.dnainfo.com/new-york/20161213/crown-heights/mimis-desserts-brings-sweets-new-troy-avenue-shop-crown-heights\n",
      "https://www.dnainfo.com/new-york/20161202/crown-heights/cafe-cotton-bean-opens-crown-heights-with-japan-inspired-menu\n",
      "https://www.dnainfo.com/new-york/20160920/crown-heights/seven-point-espresso-brings-australias-cafe-scene-brooklyn\n",
      "https://www.dnainfo.com/new-york/20160916/crown-heights/crow-bar-opens-this-week-on-franklin-avenue-crown-heights\n",
      "https://www.dnainfo.com/new-york/20160912/crown-heights/tapas-style-sandwich-spot-sunday-routine-open-on-nostrand-avenue\n",
      "https://www.dnainfo.com/new-york/20160822/crown-heights/arthouse-cinema-video-revival-opens-25-seat-theater-crown-heights\n",
      "https://www.dnainfo.com/new-york/20160814/crown-heights/peppas-jerk-chicken-open-second-location-crown-heights-this-summer\n",
      "https://www.dnainfo.com/new-york/20160815/crown-heights/modells-open-new-brooklyn-store-landmarked-eastern-parkway-bank\n",
      "https://www.dnainfo.com/new-york/20160622/crown-heights/super-power-bar-opens-on-nostrand-avenue-with-rum-drinks-1-oysters\n",
      "https://www.dnainfo.com/new-york/20160620/crown-heights/brooklyn-winerys-bkw-restaurant-open-crown-heights-this-week\n",
      "https://www.dnainfo.com/new-york/20160614/crown-heights/pete-zaaz-reopens-with-new-menu-as-holy-moly-pizzeria-crown-heights\n",
      "https://www.dnainfo.com/new-york/20160420/crown-heights/sro-gallery-opens-single-room-exhibition-space-crown-heights\n",
      "https://www.dnainfo.com/new-york/20160315/crown-heights/ramen-shop-set-open-crown-heights-with-47-seats-beer-wine\n",
      "https://www.dnainfo.com/new-york/20160314/crown-heights/simple-syrup-bring-locally-sourced-wine-spirits-nostrand-avenue\n",
      "https://www.dnainfo.com/new-york/20160304/crown-heights/crown-heights-based-nagles-bagels-expands-with-3-new-shops-brooklyn\n",
      "https://www.dnainfo.com/new-york/20160302/crown-heights/union-street-pub-opens-on-franklin-avenue-with-15-beers-on-tap\n",
      "https://www.dnainfo.com/new-york/20160219/crown-heights/basil-owner-open-kosher-bakery-on-albany-avenue-this-summer\n",
      "https://www.dnainfo.com/new-york/20160126/crown-heights/park-slope-gelateria-lalbero-dei-gelati-plans-new-crown-heights-location\n",
      "https://www.dnainfo.com/new-york/20151230/crown-heights/gourmet-hot-dog-spot-reservoir-dogs-coming-franklin-avenue\n",
      "https://www.dnainfo.com/new-york/20151211/crown-heights/steampunk-cocktail-dessert-bar-coming-nostrand-avenue\n",
      "https://www.dnainfo.com/new-york/20151117/crown-heights/photos-new-gallery-art-space-opens-on-nostrand-avenue\n",
      "https://www.dnainfo.com/new-york/20151111/crown-heights/morris-grilled-cheese-opens-new-cafe-at-brooklyn-childrens-museum\n",
      "https://www.dnainfo.com/new-york/20150921/crown-heights/boutique-spirits-shop-with-weekly-tastings-comes-rogers-avenue\n",
      "https://www.dnainfo.com/new-york/20150914/crown-heights/crown-heights-juice-shop-closing-make-way-for-new-5-story-building\n",
      "https://www.dnainfo.com/new-york/columns/openings-closings/page/44/ — shit broke or something\n",
      "https://www.dnainfo.com/new-york/20150723/crown-heights/park-slope-based-bagel-pub-open-second-location-crown-heights\n",
      "https://www.dnainfo.com/new-york/20150714/crown-heights/kosher-pizza-sandwiches-added-menu-at-crown-heights-bakery\n",
      "https://www.dnainfo.com/new-york/20150706/crown-heights/marker-coffee-opens-on-rogers-avenue-crown-heights\n",
      "https://www.dnainfo.com/new-york/20150624/crown-heights/franklin-avenue-bar-approved-for-liquor-license-over-concerns-from-locals\n",
      "https://www.dnainfo.com/new-york/20150622/crown-heights/korean-fusion-restaurant-brings-steamed-buns-franklin-avenue\n",
      "https://www.dnainfo.com/new-york/20150601/crown-heights/ice-cream-doughnut-shop-opening-on-bergen-street\n",
      "https://www.dnainfo.com/new-york/20150601/crown-heights/new-whiskey-bar-open-on-rogers-avenue-crown-heights-this-summer\n",
      "https://www.dnainfo.com/new-york/20150520/crown-heights/beer-hall-bergn-add-mediterranean-vietnamese-cuisines-this-summer\n",
      "https://www.dnainfo.com/new-york/20150407/crown-heights/photos-asian-fusion-food-trucks-open-brick-mortar-shops-brooklyn\n",
      "https://www.dnainfo.com/new-york/20150302/crown-heights/bar-with-1940s-miami-beach-vibe-open-crown-heights\n",
      "https://www.dnainfo.com/new-york/20150219/crown-heights/get-empanadas-with-your-coffee-at-new-cafe-coming-crown-heights\n",
      "https://www.dnainfo.com/new-york/20150217/crown-heights/photos-small-plate-french-brasserie-open-on-nostrand-avenue\n",
      "https://www.dnainfo.com/new-york/20150130/crown-heights/harlem-based-manhattanville-coffee-shop-opens-new-location-crown-heights\n",
      "https://www.dnainfo.com/new-york/20150112/crown-heights/bar-with-miami-beach-vibe-open-early-february-off-nostrand-avenue\n",
      "https://www.dnainfo.com/new-york/20150105/crown-heights/get-first-taste-of-butter-scotchs-new-dessert-shop-bar-this-week\n",
      "https://www.dnainfo.com/new-york/20150106/crown-heights/brooklyn-winery-plans-second-location-with-crown-heights-restaurant-bar\n",
      "https://www.dnainfo.com/new-york/columns/openings-closings/page/60/ — shit broke or something\n",
      "https://www.dnainfo.com/new-york/20141230/crown-heights/morris-sandwich-shop-expands-lunch-business-beyond-grilled-cheese-truck\n",
      "https://www.dnainfo.com/new-york/columns/openings-closings/page/61/ — shit broke or something\n",
      "https://www.dnainfo.com/new-york/20141212/crown-heights/doughnut-shop-open-crown-heights-january\n",
      "https://www.dnainfo.com/new-york/20141203/crown-heights/retro-cocktail-bar-open-this-month-crown-heights\n",
      "https://www.dnainfo.com/new-york/20141023/crown-heights/7500-square-foot-crossfit-gym-moving-dean-street\n",
      "https://www.dnainfo.com/new-york/20141010/crown-heights/kosher-burger-spot-franklin-ave-bar-set-open-crown-heights\n",
      "https://www.dnainfo.com/new-york/20141002/crown-heights/get-chickpea-sandwiches-with-your-acupuncture-at-franklin-ave-wellness-hub\n",
      "https://www.dnainfo.com/new-york/20140914/crown-heights/kosher-bbq-joint-bring-ribs-brisket-crown-heights-next-month\n",
      "https://www.dnainfo.com/new-york/20140612/crown-heights/dean-street-coworking-space-hopes-build-community-cubicles\n",
      "https://www.dnainfo.com/new-york/columns/openings-closings/page/73/ — shit broke or something\n",
      "https://www.dnainfo.com/new-york/20140527/crown-heights/back-forty-chef-open-farm-to-table-restaurant-on-franklin-ave\n",
      "https://www.dnainfo.com/new-york/20140507/crown-heights/more-health-food-yoga-coming-crown-heights-may\n",
      "https://www.dnainfo.com/new-york/20140211/crown-heights/live-music-venue-soul-food-restaurant-opens-on-classon-avenue\n",
      "https://www.dnainfo.com/new-york/20140122/crown-heights/middle-eastern-eatery-closes-gulf-gas-station-razed-crown-heights\n",
      "https://www.dnainfo.com/new-york/20131217/crown-heights/brooklyn-designer-brightens-winter-wardrobes-at-nostrand-ave-pop-up-shop\n",
      "https://www.dnainfo.com/new-york/20131125/crown-heights/crown-heights-parents-band-together-replace-kids-play-space\n",
      "https://www.dnainfo.com/new-york/20131122/crown-heights/fez-hummus-bar-gives-israeli-cuisine-twist-on-franklin-avenue\n",
      "https://www.dnainfo.com/new-york/20131106/crown-heights/fall-brings-new-faces-old-flavors-crown-heights\n",
      "https://www.dnainfo.com/new-york/20131009/crown-heights/artisanal-soft-pretzel-shop-opening-crown-heights\n",
      "https://www.dnainfo.com/new-york/20131008/crown-heights/little-pink-pastry-shop-brightens-up-rogers-avenue\n"
     ]
    }
   ],
   "source": [
    "for i in range(1, 100):\n",
    "    page = urlopen(base_url + str(i) + '/')\n",
    "    soup = BeautifulSoup(page, \"html.parser\") # parse the html using beautiful soup and store in variable `soup`\n",
    "    for link in soup.findAll('a', href = True, text = 'Crown Heights »'):\n",
    "        soup2 = link.next.next\n",
    "        if isinstance(soup2, str):\n",
    "            print(base_url + str(i) +'/' + \" — shit broke or something\")\n",
    "        else:\n",
    "            real_link = soup2.find('a', href = True)\n",
    "            real_real_link = 'https:' + real_link['href']\n",
    "            link_list.append(real_real_link)\n",
    "            print(real_real_link)"
   ]
  },
  {
   "cell_type": "code",
   "execution_count": null,
   "metadata": {},
   "outputs": [],
   "source": []
  }
 ],
 "metadata": {
  "kernelspec": {
   "display_name": "Python 3",
   "language": "python",
   "name": "python3"
  },
  "language_info": {
   "codemirror_mode": {
    "name": "ipython",
    "version": 3
   },
   "file_extension": ".py",
   "mimetype": "text/x-python",
   "name": "python",
   "nbconvert_exporter": "python",
   "pygments_lexer": "ipython3",
   "version": "3.6.1"
  }
 },
 "nbformat": 4,
 "nbformat_minor": 2
}
